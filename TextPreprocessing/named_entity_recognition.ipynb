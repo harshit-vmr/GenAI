{
 "cells": [
  {
   "cell_type": "markdown",
   "id": "e430ee42",
   "metadata": {},
   "source": [
    "# Named Entity Recognition (NER)\n",
    "nltk.ne_chunk is a function in NLTK that performs Named Entity Recognition (NER) using a shallow parsing technique. It identifies named entities like:\n",
    "\n",
    "👤 People (e.g., \"Barack Obama\")\n",
    "\n",
    "🌍 Organizations (e.g., \"Google\")\n",
    "\n",
    "📍 Locations (e.g., \"New York\")\n",
    "\n",
    "⏳ Dates, times, etc.\n",
    "\n",
    "It returns a tree structure where named entities are grouped together and labeled."
   ]
  },
  {
   "cell_type": "code",
   "execution_count": 1,
   "id": "1140d1ba",
   "metadata": {},
   "outputs": [],
   "source": [
    "sentence=\"The Eiffel Tower was built from 1887 to 1889 by Gustave Eiffel, whose company specialized in building metal frameworks and structures.\""
   ]
  },
  {
   "cell_type": "code",
   "execution_count": 2,
   "id": "1a7ddf82",
   "metadata": {},
   "outputs": [],
   "source": [
    "import nltk\n",
    "words=nltk.word_tokenize(sentence)"
   ]
  },
  {
   "cell_type": "code",
   "execution_count": 3,
   "id": "aaa507bd",
   "metadata": {},
   "outputs": [],
   "source": [
    "tag_elements=nltk.pos_tag(words)"
   ]
  },
  {
   "cell_type": "code",
   "execution_count": 4,
   "id": "9b479272",
   "metadata": {},
   "outputs": [],
   "source": [
    "nltk.ne_chunk(tag_elements).draw()\n",
    "tree = nltk.ne_chunk(tag_elements)"
   ]
  },
  {
   "cell_type": "code",
   "execution_count": null,
   "id": "5c33206d",
   "metadata": {},
   "outputs": [
    {
     "name": "stdout",
     "output_type": "stream",
     "text": [
      "[('Eiffel Tower', 'ORGANIZATION'), ('Gustave Eiffel', 'PERSON')]\n"
     ]
    }
   ],
   "source": [
    "from nltk.tree import Tree\n",
    "\n",
    "named_entities = []\n",
    "\n",
    "for subtree in tree:\n",
    "    if isinstance(subtree, Tree):\n",
    "        entity = \" \".join([token for token, pos in subtree.leaves()])\n",
    "        label = subtree.label()\n",
    "        named_entities.append((entity, label))\n",
    "\n",
    "print(named_entities)\n"
   ]
  },
  {
   "cell_type": "code",
   "execution_count": null,
   "id": "23196773",
   "metadata": {},
   "outputs": [],
   "source": []
  }
 ],
 "metadata": {
  "kernelspec": {
   "display_name": ".venv",
   "language": "python",
   "name": "python3"
  },
  "language_info": {
   "codemirror_mode": {
    "name": "ipython",
    "version": 3
   },
   "file_extension": ".py",
   "mimetype": "text/x-python",
   "name": "python",
   "nbconvert_exporter": "python",
   "pygments_lexer": "ipython3",
   "version": "3.11.4"
  }
 },
 "nbformat": 4,
 "nbformat_minor": 5
}
