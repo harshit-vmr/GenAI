{
 "cells": [
  {
   "cell_type": "markdown",
   "id": "910a503c",
   "metadata": {},
   "source": [
    "### 📘 What is Lemmatization?\n",
    "Lemmatization:\n",
    "\n",
    "Returns real words (unlike stemming which may produce truncated roots).\n",
    "\n",
    "Uses linguistic rules and a dictionary (WordNet) to find the correct base form.\n",
    "\n",
    "Needs the part of speech (POS) to be most accurate.\n",
    "\n",
    "Example:\n",
    "\n",
    "\"running\" → \"run\" (verb)\n",
    "\n",
    "\"better\" → \"good\" (adjective)"
   ]
  },
  {
   "cell_type": "markdown",
   "id": "304f02e0",
   "metadata": {},
   "source": [
    "| Feature               | `WordNetLemmatizer` | `PorterStemmer` / `LancasterStemmer` |\n",
    "| --------------------- | ------------------- | ------------------------------------ |\n",
    "| Produces real word?   | ✅ Yes               | ❌ Not always                         |\n",
    "| Uses POS and grammar? | ✅ Yes               | ❌ No                                 |\n",
    "| Language-based rules? | ✅ Yes (WordNet)     | 🔁 Rule-based only                   |\n",
    "| “studies” →           | “study”             | “studi”                              |\n",
    "| “better” →            | “good”              | “better”                             |\n"
   ]
  },
  {
   "cell_type": "markdown",
   "id": "58f4b42a",
   "metadata": {},
   "source": [
    "### 🌐 Note: WordNet Resource Needed\n",
    "You must download WordNet data first: <br>\n",
    "\n",
    "import nltk <br>\n",
    "nltk.download('wordnet') <br>\n",
    "nltk.download('omw-1.4')  # Optional: for extended WordNet support"
   ]
  },
  {
   "cell_type": "code",
   "execution_count": 1,
   "id": "33398ee7",
   "metadata": {},
   "outputs": [],
   "source": [
    "## Q&A,chatbots,text summarization\n",
    "from nltk.stem import WordNetLemmatizer"
   ]
  },
  {
   "cell_type": "code",
   "execution_count": 2,
   "id": "b010e185",
   "metadata": {},
   "outputs": [],
   "source": [
    "lemmatizer=WordNetLemmatizer()"
   ]
  },
  {
   "cell_type": "code",
   "execution_count": 3,
   "id": "3dc8ff7b",
   "metadata": {},
   "outputs": [
    {
     "data": {
      "text/plain": [
       "'go'"
      ]
     },
     "execution_count": 3,
     "metadata": {},
     "output_type": "execute_result"
    }
   ],
   "source": [
    "'''\n",
    "POS- Noun-n\n",
    "verb-v\n",
    "adjective-a\n",
    "adverb-r\n",
    "'''\n",
    "lemmatizer.lemmatize(\"going\",pos='v')"
   ]
  },
  {
   "cell_type": "code",
   "execution_count": 4,
   "id": "8b09d05a",
   "metadata": {},
   "outputs": [],
   "source": [
    "words=[\"eating\",\"eats\",\"eaten\",\"writing\",\"writes\",\"programming\",\"programs\",\"history\",\"finally\",\"finalized\"]"
   ]
  },
  {
   "cell_type": "code",
   "execution_count": 5,
   "id": "ab02b7b1",
   "metadata": {},
   "outputs": [
    {
     "name": "stdout",
     "output_type": "stream",
     "text": [
      "eating---->eat\n",
      "eats---->eat\n",
      "eaten---->eat\n",
      "writing---->write\n",
      "writes---->write\n",
      "programming---->program\n",
      "programs---->program\n",
      "history---->history\n",
      "finally---->finally\n",
      "finalized---->finalize\n"
     ]
    }
   ],
   "source": [
    "for word in words:\n",
    "    print(word+\"---->\"+lemmatizer.lemmatize(word,pos='v'))"
   ]
  },
  {
   "cell_type": "code",
   "execution_count": 6,
   "id": "c5824b59",
   "metadata": {},
   "outputs": [
    {
     "data": {
      "text/plain": [
       "'go'"
      ]
     },
     "execution_count": 6,
     "metadata": {},
     "output_type": "execute_result"
    }
   ],
   "source": [
    "lemmatizer.lemmatize(\"goes\",pos='v')"
   ]
  },
  {
   "cell_type": "code",
   "execution_count": 7,
   "id": "ff0efe0c",
   "metadata": {},
   "outputs": [
    {
     "data": {
      "text/plain": [
       "('fairly', 'sportingly')"
      ]
     },
     "execution_count": 7,
     "metadata": {},
     "output_type": "execute_result"
    }
   ],
   "source": [
    "lemmatizer.lemmatize(\"fairly\",pos='v'),lemmatizer.lemmatize(\"sportingly\")"
   ]
  },
  {
   "cell_type": "code",
   "execution_count": null,
   "id": "8498f2c4",
   "metadata": {},
   "outputs": [],
   "source": []
  }
 ],
 "metadata": {
  "kernelspec": {
   "display_name": ".venv",
   "language": "python",
   "name": "python3"
  },
  "language_info": {
   "codemirror_mode": {
    "name": "ipython",
    "version": 3
   },
   "file_extension": ".py",
   "mimetype": "text/x-python",
   "name": "python",
   "nbconvert_exporter": "python",
   "pygments_lexer": "ipython3",
   "version": "3.11.4"
  }
 },
 "nbformat": 4,
 "nbformat_minor": 5
}
