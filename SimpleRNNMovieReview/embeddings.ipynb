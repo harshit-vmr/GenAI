{
 "cells": [
  {
   "cell_type": "code",
   "execution_count": 18,
   "id": "cd17d731",
   "metadata": {},
   "outputs": [],
   "source": [
    "from tensorflow.keras.preprocessing.text import one_hot"
   ]
  },
  {
   "cell_type": "code",
   "execution_count": 19,
   "id": "0df906d1",
   "metadata": {},
   "outputs": [],
   "source": [
    "### sentences\n",
    "sent=[  'the glass of milk',\n",
    "     'the glass of juice',\n",
    "     'the cup of tea',\n",
    "    'I am a good boy',\n",
    "     'I am a good developer',\n",
    "     'understand the meaning of words',\n",
    "     'your videos are good',]"
   ]
  },
  {
   "cell_type": "code",
   "execution_count": 20,
   "id": "c73beec5",
   "metadata": {},
   "outputs": [
    {
     "data": {
      "text/plain": [
       "['the glass of milk',\n",
       " 'the glass of juice',\n",
       " 'the cup of tea',\n",
       " 'I am a good boy',\n",
       " 'I am a good developer',\n",
       " 'understand the meaning of words',\n",
       " 'your videos are good']"
      ]
     },
     "execution_count": 20,
     "metadata": {},
     "output_type": "execute_result"
    }
   ],
   "source": [
    "sent"
   ]
  },
  {
   "cell_type": "code",
   "execution_count": 21,
   "id": "a371707e",
   "metadata": {},
   "outputs": [],
   "source": [
    "## Define the vocabulary size\n",
    "voc_size=10000"
   ]
  },
  {
   "cell_type": "code",
   "execution_count": 22,
   "id": "53a4177d",
   "metadata": {},
   "outputs": [
    {
     "data": {
      "text/plain": [
       "[[9945, 4595, 9520, 5637],\n",
       " [9945, 4595, 9520, 7466],\n",
       " [9945, 1576, 9520, 2585],\n",
       " [5542, 9482, 2430, 9595, 2349],\n",
       " [5542, 9482, 2430, 9595, 103],\n",
       " [3666, 9945, 1890, 9520, 5377],\n",
       " [8469, 9462, 8256, 9595]]"
      ]
     },
     "execution_count": 22,
     "metadata": {},
     "output_type": "execute_result"
    }
   ],
   "source": [
    "### One Hot Representation\n",
    "one_hot_repr=[one_hot(words,voc_size)for words in sent]\n",
    "one_hot_repr"
   ]
  },
  {
   "cell_type": "code",
   "execution_count": 23,
   "id": "d34478bc",
   "metadata": {},
   "outputs": [],
   "source": [
    "## word Embedding Representation\n",
    "\n",
    "from tensorflow.keras.layers import Embedding\n",
    "from tensorflow.keras.utils import pad_sequences\n",
    "from tensorflow.keras.models import Sequential"
   ]
  },
  {
   "cell_type": "code",
   "execution_count": 24,
   "id": "47e58520",
   "metadata": {},
   "outputs": [
    {
     "name": "stdout",
     "output_type": "stream",
     "text": [
      "[[   0    0    0    0 9945 4595 9520 5637]\n",
      " [   0    0    0    0 9945 4595 9520 7466]\n",
      " [   0    0    0    0 9945 1576 9520 2585]\n",
      " [   0    0    0 5542 9482 2430 9595 2349]\n",
      " [   0    0    0 5542 9482 2430 9595  103]\n",
      " [   0    0    0 3666 9945 1890 9520 5377]\n",
      " [   0    0    0    0 8469 9462 8256 9595]]\n"
     ]
    }
   ],
   "source": [
    "sent_length=8\n",
    "embedded_docs=pad_sequences(one_hot_repr,padding='pre',maxlen=sent_length)\n",
    "print(embedded_docs)"
   ]
  },
  {
   "cell_type": "code",
   "execution_count": 25,
   "id": "3270d991",
   "metadata": {},
   "outputs": [],
   "source": [
    "## feature representation\n",
    "dim=10"
   ]
  },
  {
   "cell_type": "code",
   "execution_count": 26,
   "id": "c1f5bfe7",
   "metadata": {},
   "outputs": [],
   "source": [
    "model=Sequential([Embedding(voc_size,dim,input_length=sent_length)])\n",
    "model.compile('adam','mse')"
   ]
  },
  {
   "cell_type": "code",
   "execution_count": 27,
   "id": "c93aa629",
   "metadata": {},
   "outputs": [
    {
     "data": {
      "text/html": [
       "<pre style=\"white-space:pre;overflow-x:auto;line-height:normal;font-family:Menlo,'DejaVu Sans Mono',consolas,'Courier New',monospace\"><span style=\"font-weight: bold\">Model: \"sequential_2\"</span>\n",
       "</pre>\n"
      ],
      "text/plain": [
       "\u001b[1mModel: \"sequential_2\"\u001b[0m\n"
      ]
     },
     "metadata": {},
     "output_type": "display_data"
    },
    {
     "data": {
      "text/html": [
       "<pre style=\"white-space:pre;overflow-x:auto;line-height:normal;font-family:Menlo,'DejaVu Sans Mono',consolas,'Courier New',monospace\">┏━━━━━━━━━━━━━━━━━━━━━━━━━━━━━━━━━┳━━━━━━━━━━━━━━━━━━━━━━━━┳━━━━━━━━━━━━━━━┓\n",
       "┃<span style=\"font-weight: bold\"> Layer (type)                    </span>┃<span style=\"font-weight: bold\"> Output Shape           </span>┃<span style=\"font-weight: bold\">       Param # </span>┃\n",
       "┡━━━━━━━━━━━━━━━━━━━━━━━━━━━━━━━━━╇━━━━━━━━━━━━━━━━━━━━━━━━╇━━━━━━━━━━━━━━━┩\n",
       "│ embedding_2 (<span style=\"color: #0087ff; text-decoration-color: #0087ff\">Embedding</span>)         │ (<span style=\"color: #00d7ff; text-decoration-color: #00d7ff\">None</span>, <span style=\"color: #00af00; text-decoration-color: #00af00\">8</span>, <span style=\"color: #00af00; text-decoration-color: #00af00\">10</span>)          │       <span style=\"color: #00af00; text-decoration-color: #00af00\">100,000</span> │\n",
       "└─────────────────────────────────┴────────────────────────┴───────────────┘\n",
       "</pre>\n"
      ],
      "text/plain": [
       "┏━━━━━━━━━━━━━━━━━━━━━━━━━━━━━━━━━┳━━━━━━━━━━━━━━━━━━━━━━━━┳━━━━━━━━━━━━━━━┓\n",
       "┃\u001b[1m \u001b[0m\u001b[1mLayer (type)                   \u001b[0m\u001b[1m \u001b[0m┃\u001b[1m \u001b[0m\u001b[1mOutput Shape          \u001b[0m\u001b[1m \u001b[0m┃\u001b[1m \u001b[0m\u001b[1m      Param #\u001b[0m\u001b[1m \u001b[0m┃\n",
       "┡━━━━━━━━━━━━━━━━━━━━━━━━━━━━━━━━━╇━━━━━━━━━━━━━━━━━━━━━━━━╇━━━━━━━━━━━━━━━┩\n",
       "│ embedding_2 (\u001b[38;5;33mEmbedding\u001b[0m)         │ (\u001b[38;5;45mNone\u001b[0m, \u001b[38;5;34m8\u001b[0m, \u001b[38;5;34m10\u001b[0m)          │       \u001b[38;5;34m100,000\u001b[0m │\n",
       "└─────────────────────────────────┴────────────────────────┴───────────────┘\n"
      ]
     },
     "metadata": {},
     "output_type": "display_data"
    },
    {
     "data": {
      "text/html": [
       "<pre style=\"white-space:pre;overflow-x:auto;line-height:normal;font-family:Menlo,'DejaVu Sans Mono',consolas,'Courier New',monospace\"><span style=\"font-weight: bold\"> Total params: </span><span style=\"color: #00af00; text-decoration-color: #00af00\">100,000</span> (390.62 KB)\n",
       "</pre>\n"
      ],
      "text/plain": [
       "\u001b[1m Total params: \u001b[0m\u001b[38;5;34m100,000\u001b[0m (390.62 KB)\n"
      ]
     },
     "metadata": {},
     "output_type": "display_data"
    },
    {
     "data": {
      "text/html": [
       "<pre style=\"white-space:pre;overflow-x:auto;line-height:normal;font-family:Menlo,'DejaVu Sans Mono',consolas,'Courier New',monospace\"><span style=\"font-weight: bold\"> Trainable params: </span><span style=\"color: #00af00; text-decoration-color: #00af00\">100,000</span> (390.62 KB)\n",
       "</pre>\n"
      ],
      "text/plain": [
       "\u001b[1m Trainable params: \u001b[0m\u001b[38;5;34m100,000\u001b[0m (390.62 KB)\n"
      ]
     },
     "metadata": {},
     "output_type": "display_data"
    },
    {
     "data": {
      "text/html": [
       "<pre style=\"white-space:pre;overflow-x:auto;line-height:normal;font-family:Menlo,'DejaVu Sans Mono',consolas,'Courier New',monospace\"><span style=\"font-weight: bold\"> Non-trainable params: </span><span style=\"color: #00af00; text-decoration-color: #00af00\">0</span> (0.00 B)\n",
       "</pre>\n"
      ],
      "text/plain": [
       "\u001b[1m Non-trainable params: \u001b[0m\u001b[38;5;34m0\u001b[0m (0.00 B)\n"
      ]
     },
     "metadata": {},
     "output_type": "display_data"
    }
   ],
   "source": [
    "model.build(input_shape=(None, sent_length))\n",
    "model.summary()"
   ]
  },
  {
   "cell_type": "code",
   "execution_count": 15,
   "id": "e4322052",
   "metadata": {},
   "outputs": [
    {
     "name": "stderr",
     "output_type": "stream",
     "text": [
      "WARNING: All log messages before absl::InitializeLog() is called are written to STDERR\n",
      "I0000 00:00:1751708417.655675   35836 service.cc:145] XLA service 0x7fd0f00030f0 initialized for platform CUDA (this does not guarantee that XLA will be used). Devices:\n",
      "I0000 00:00:1751708417.655983   35836 service.cc:153]   StreamExecutor device (0): NVIDIA RTX A1000 Laptop GPU, Compute Capability 8.6\n",
      "2025-07-05 09:40:17.759718: I external/local_xla/xla/stream_executor/cuda/cuda_dnn.cc:465] Loaded cuDNN version 8907\n"
     ]
    },
    {
     "name": "stdout",
     "output_type": "stream",
     "text": [
      "\u001b[1m1/1\u001b[0m \u001b[32m━━━━━━━━━━━━━━━━━━━━\u001b[0m\u001b[37m\u001b[0m \u001b[1m1s\u001b[0m 530ms/step\n"
     ]
    },
    {
     "name": "stderr",
     "output_type": "stream",
     "text": [
      "I0000 00:00:1751708417.893297   35836 device_compiler.h:188] Compiled cluster using XLA!  This line is logged at most once for the lifetime of the process.\n"
     ]
    },
    {
     "data": {
      "text/plain": [
       "array([[[ 0.02720622, -0.01585617,  0.00183653,  0.01804915,\n",
       "         -0.00314492,  0.01331099,  0.01036093, -0.02515212,\n",
       "          0.01550316, -0.03856158],\n",
       "        [ 0.02720622, -0.01585617,  0.00183653,  0.01804915,\n",
       "         -0.00314492,  0.01331099,  0.01036093, -0.02515212,\n",
       "          0.01550316, -0.03856158],\n",
       "        [ 0.02720622, -0.01585617,  0.00183653,  0.01804915,\n",
       "         -0.00314492,  0.01331099,  0.01036093, -0.02515212,\n",
       "          0.01550316, -0.03856158],\n",
       "        [ 0.02720622, -0.01585617,  0.00183653,  0.01804915,\n",
       "         -0.00314492,  0.01331099,  0.01036093, -0.02515212,\n",
       "          0.01550316, -0.03856158],\n",
       "        [-0.03455745, -0.03959769, -0.01531984,  0.03632206,\n",
       "          0.00610788,  0.03522455,  0.0490389 , -0.00952028,\n",
       "         -0.00111841, -0.03927686],\n",
       "        [-0.0356742 , -0.02718365,  0.02719393, -0.04641856,\n",
       "         -0.01155205,  0.04993559,  0.02330153,  0.03535512,\n",
       "          0.04138366,  0.03489307],\n",
       "        [ 0.00796139,  0.04091816, -0.02535726, -0.03993245,\n",
       "          0.032656  ,  0.04578134,  0.01379255, -0.0450419 ,\n",
       "          0.03456863,  0.03990095],\n",
       "        [-0.03521919,  0.01609305, -0.02778449,  0.02922576,\n",
       "         -0.01393709, -0.03870425, -0.01013676, -0.03486075,\n",
       "         -0.03932117, -0.0406325 ]],\n",
       "\n",
       "       [[ 0.02720622, -0.01585617,  0.00183653,  0.01804915,\n",
       "         -0.00314492,  0.01331099,  0.01036093, -0.02515212,\n",
       "          0.01550316, -0.03856158],\n",
       "        [ 0.02720622, -0.01585617,  0.00183653,  0.01804915,\n",
       "         -0.00314492,  0.01331099,  0.01036093, -0.02515212,\n",
       "          0.01550316, -0.03856158],\n",
       "        [ 0.02720622, -0.01585617,  0.00183653,  0.01804915,\n",
       "         -0.00314492,  0.01331099,  0.01036093, -0.02515212,\n",
       "          0.01550316, -0.03856158],\n",
       "        [ 0.02720622, -0.01585617,  0.00183653,  0.01804915,\n",
       "         -0.00314492,  0.01331099,  0.01036093, -0.02515212,\n",
       "          0.01550316, -0.03856158],\n",
       "        [-0.03455745, -0.03959769, -0.01531984,  0.03632206,\n",
       "          0.00610788,  0.03522455,  0.0490389 , -0.00952028,\n",
       "         -0.00111841, -0.03927686],\n",
       "        [-0.0356742 , -0.02718365,  0.02719393, -0.04641856,\n",
       "         -0.01155205,  0.04993559,  0.02330153,  0.03535512,\n",
       "          0.04138366,  0.03489307],\n",
       "        [ 0.00796139,  0.04091816, -0.02535726, -0.03993245,\n",
       "          0.032656  ,  0.04578134,  0.01379255, -0.0450419 ,\n",
       "          0.03456863,  0.03990095],\n",
       "        [-0.04454219,  0.04379084, -0.0336702 , -0.00173434,\n",
       "          0.02539795,  0.02680761, -0.02357198, -0.03445781,\n",
       "          0.00051793,  0.0493328 ]],\n",
       "\n",
       "       [[ 0.02720622, -0.01585617,  0.00183653,  0.01804915,\n",
       "         -0.00314492,  0.01331099,  0.01036093, -0.02515212,\n",
       "          0.01550316, -0.03856158],\n",
       "        [ 0.02720622, -0.01585617,  0.00183653,  0.01804915,\n",
       "         -0.00314492,  0.01331099,  0.01036093, -0.02515212,\n",
       "          0.01550316, -0.03856158],\n",
       "        [ 0.02720622, -0.01585617,  0.00183653,  0.01804915,\n",
       "         -0.00314492,  0.01331099,  0.01036093, -0.02515212,\n",
       "          0.01550316, -0.03856158],\n",
       "        [ 0.02720622, -0.01585617,  0.00183653,  0.01804915,\n",
       "         -0.00314492,  0.01331099,  0.01036093, -0.02515212,\n",
       "          0.01550316, -0.03856158],\n",
       "        [-0.03455745, -0.03959769, -0.01531984,  0.03632206,\n",
       "          0.00610788,  0.03522455,  0.0490389 , -0.00952028,\n",
       "         -0.00111841, -0.03927686],\n",
       "        [-0.04106813,  0.03686693,  0.04312351, -0.0060324 ,\n",
       "         -0.01636015, -0.02939807,  0.00153871, -0.03752721,\n",
       "          0.00067111,  0.03227856],\n",
       "        [ 0.00796139,  0.04091816, -0.02535726, -0.03993245,\n",
       "          0.032656  ,  0.04578134,  0.01379255, -0.0450419 ,\n",
       "          0.03456863,  0.03990095],\n",
       "        [ 0.03541337,  0.02750589,  0.00339749, -0.03019193,\n",
       "         -0.02834915,  0.0352324 , -0.02830616,  0.04367441,\n",
       "         -0.01214148, -0.01985235]],\n",
       "\n",
       "       [[ 0.02720622, -0.01585617,  0.00183653,  0.01804915,\n",
       "         -0.00314492,  0.01331099,  0.01036093, -0.02515212,\n",
       "          0.01550316, -0.03856158],\n",
       "        [ 0.02720622, -0.01585617,  0.00183653,  0.01804915,\n",
       "         -0.00314492,  0.01331099,  0.01036093, -0.02515212,\n",
       "          0.01550316, -0.03856158],\n",
       "        [ 0.02720622, -0.01585617,  0.00183653,  0.01804915,\n",
       "         -0.00314492,  0.01331099,  0.01036093, -0.02515212,\n",
       "          0.01550316, -0.03856158],\n",
       "        [ 0.02800548,  0.03976121,  0.01479156, -0.00648844,\n",
       "          0.04835636,  0.0386222 , -0.00832736,  0.00893449,\n",
       "          0.02300509,  0.02344625],\n",
       "        [ 0.04348638, -0.02871679, -0.0283178 , -0.00263117,\n",
       "         -0.02950676,  0.00579926,  0.01976497, -0.02365484,\n",
       "         -0.03672777,  0.03174362],\n",
       "        [ 0.02511755,  0.0396543 ,  0.01575338,  0.01879901,\n",
       "          0.02088613,  0.00948368,  0.04469626, -0.02577206,\n",
       "         -0.00011428, -0.03897657],\n",
       "        [-0.0451826 ,  0.03904432, -0.02172076,  0.01843286,\n",
       "          0.0378851 ,  0.02535823,  0.01677721,  0.04262951,\n",
       "          0.00171499, -0.03507138],\n",
       "        [-0.04840934, -0.01430272, -0.0151807 , -0.00372746,\n",
       "          0.04054681, -0.01014211,  0.02765688,  0.04607055,\n",
       "         -0.02180935, -0.03087633]],\n",
       "\n",
       "       [[ 0.02720622, -0.01585617,  0.00183653,  0.01804915,\n",
       "         -0.00314492,  0.01331099,  0.01036093, -0.02515212,\n",
       "          0.01550316, -0.03856158],\n",
       "        [ 0.02720622, -0.01585617,  0.00183653,  0.01804915,\n",
       "         -0.00314492,  0.01331099,  0.01036093, -0.02515212,\n",
       "          0.01550316, -0.03856158],\n",
       "        [ 0.02720622, -0.01585617,  0.00183653,  0.01804915,\n",
       "         -0.00314492,  0.01331099,  0.01036093, -0.02515212,\n",
       "          0.01550316, -0.03856158],\n",
       "        [ 0.02800548,  0.03976121,  0.01479156, -0.00648844,\n",
       "          0.04835636,  0.0386222 , -0.00832736,  0.00893449,\n",
       "          0.02300509,  0.02344625],\n",
       "        [ 0.04348638, -0.02871679, -0.0283178 , -0.00263117,\n",
       "         -0.02950676,  0.00579926,  0.01976497, -0.02365484,\n",
       "         -0.03672777,  0.03174362],\n",
       "        [ 0.02511755,  0.0396543 ,  0.01575338,  0.01879901,\n",
       "          0.02088613,  0.00948368,  0.04469626, -0.02577206,\n",
       "         -0.00011428, -0.03897657],\n",
       "        [-0.0451826 ,  0.03904432, -0.02172076,  0.01843286,\n",
       "          0.0378851 ,  0.02535823,  0.01677721,  0.04262951,\n",
       "          0.00171499, -0.03507138],\n",
       "        [ 0.01441074,  0.02036176,  0.04855533,  0.04224657,\n",
       "         -0.02748102, -0.0465648 ,  0.03204951, -0.0097492 ,\n",
       "         -0.04259853,  0.04106574]],\n",
       "\n",
       "       [[ 0.02720622, -0.01585617,  0.00183653,  0.01804915,\n",
       "         -0.00314492,  0.01331099,  0.01036093, -0.02515212,\n",
       "          0.01550316, -0.03856158],\n",
       "        [ 0.02720622, -0.01585617,  0.00183653,  0.01804915,\n",
       "         -0.00314492,  0.01331099,  0.01036093, -0.02515212,\n",
       "          0.01550316, -0.03856158],\n",
       "        [ 0.02720622, -0.01585617,  0.00183653,  0.01804915,\n",
       "         -0.00314492,  0.01331099,  0.01036093, -0.02515212,\n",
       "          0.01550316, -0.03856158],\n",
       "        [-0.03797338,  0.02329118,  0.01262544,  0.01619058,\n",
       "         -0.00693283,  0.02232501, -0.04718239,  0.0070588 ,\n",
       "         -0.01837535,  0.0211317 ],\n",
       "        [-0.03455745, -0.03959769, -0.01531984,  0.03632206,\n",
       "          0.00610788,  0.03522455,  0.0490389 , -0.00952028,\n",
       "         -0.00111841, -0.03927686],\n",
       "        [-0.04086605,  0.00018727,  0.00362598, -0.04282601,\n",
       "         -0.04786963, -0.04151209,  0.01029307, -0.04670918,\n",
       "         -0.01058916, -0.00804104],\n",
       "        [ 0.00796139,  0.04091816, -0.02535726, -0.03993245,\n",
       "          0.032656  ,  0.04578134,  0.01379255, -0.0450419 ,\n",
       "          0.03456863,  0.03990095],\n",
       "        [-0.02382262, -0.03134086,  0.00624269, -0.02537143,\n",
       "          0.01795615, -0.01298568, -0.01099218, -0.03328592,\n",
       "         -0.02046946, -0.02726971]],\n",
       "\n",
       "       [[ 0.02720622, -0.01585617,  0.00183653,  0.01804915,\n",
       "         -0.00314492,  0.01331099,  0.01036093, -0.02515212,\n",
       "          0.01550316, -0.03856158],\n",
       "        [ 0.02720622, -0.01585617,  0.00183653,  0.01804915,\n",
       "         -0.00314492,  0.01331099,  0.01036093, -0.02515212,\n",
       "          0.01550316, -0.03856158],\n",
       "        [ 0.02720622, -0.01585617,  0.00183653,  0.01804915,\n",
       "         -0.00314492,  0.01331099,  0.01036093, -0.02515212,\n",
       "          0.01550316, -0.03856158],\n",
       "        [ 0.02720622, -0.01585617,  0.00183653,  0.01804915,\n",
       "         -0.00314492,  0.01331099,  0.01036093, -0.02515212,\n",
       "          0.01550316, -0.03856158],\n",
       "        [ 0.00858742, -0.0082434 , -0.01563851, -0.02861782,\n",
       "         -0.03464563, -0.04063671,  0.01261792, -0.01421229,\n",
       "         -0.01730036, -0.02085717],\n",
       "        [ 0.01477858, -0.04305415, -0.04679535,  0.04159912,\n",
       "         -0.0071061 , -0.04225273, -0.03806509,  0.03634145,\n",
       "         -0.03407855,  0.03699991],\n",
       "        [-0.01937943, -0.01116562, -0.01921399,  0.02166167,\n",
       "          0.04239185,  0.04567904,  0.02457322, -0.03092444,\n",
       "         -0.04298407,  0.00872995],\n",
       "        [-0.0451826 ,  0.03904432, -0.02172076,  0.01843286,\n",
       "          0.0378851 ,  0.02535823,  0.01677721,  0.04262951,\n",
       "          0.00171499, -0.03507138]]], dtype=float32)"
      ]
     },
     "execution_count": 15,
     "metadata": {},
     "output_type": "execute_result"
    }
   ],
   "source": [
    "model.predict(embedded_docs)"
   ]
  },
  {
   "cell_type": "code",
   "execution_count": 28,
   "id": "1ae96ec5",
   "metadata": {},
   "outputs": [
    {
     "data": {
      "text/plain": [
       "array([   0,    0,    0,    0, 9945, 4595, 9520, 5637], dtype=int32)"
      ]
     },
     "execution_count": 28,
     "metadata": {},
     "output_type": "execute_result"
    }
   ],
   "source": [
    "embedded_docs[0]"
   ]
  },
  {
   "cell_type": "code",
   "execution_count": null,
   "id": "1d8a2e67",
   "metadata": {},
   "outputs": [
    {
     "name": "stderr",
     "output_type": "stream",
     "text": [
      "/home/harsh/GenAI/.venv/lib/python3.11/site-packages/keras/src/models/functional.py:241: UserWarning: The structure of `inputs` doesn't match the expected structure.\n",
      "Expected: keras_tensor_2\n",
      "Received: inputs=('Tensor(shape=(8,))',)\n",
      "  warnings.warn(msg)\n"
     ]
    },
    {
     "ename": "ValueError",
     "evalue": "Exception encountered when calling Sequential.call().\n\n\u001b[1mInvalid input shape for input Tensor(\"sequential_2_1/Cast:0\", shape=(8,), dtype=float32). Expected shape (None, 8), but input has incompatible shape (8,)\u001b[0m\n\nArguments received by Sequential.call():\n  • inputs=('tf.Tensor(shape=(8,), dtype=int32)',)\n  • training=False\n  • mask=('None',)\n  • kwargs=<class 'inspect._empty'>",
     "output_type": "error",
     "traceback": [
      "\u001b[31m---------------------------------------------------------------------------\u001b[39m",
      "\u001b[31mValueError\u001b[39m                                Traceback (most recent call last)",
      "\u001b[36mCell\u001b[39m\u001b[36m \u001b[39m\u001b[32mIn[30]\u001b[39m\u001b[32m, line 1\u001b[39m\n\u001b[32m----> \u001b[39m\u001b[32m1\u001b[39m \u001b[43mmodel\u001b[49m\u001b[43m.\u001b[49m\u001b[43mpredict\u001b[49m\u001b[43m(\u001b[49m\u001b[43m[\u001b[49m\u001b[43membedded_docs\u001b[49m\u001b[43m[\u001b[49m\u001b[32;43m0\u001b[39;49m\u001b[43m]\u001b[49m\u001b[43m]\u001b[49m\u001b[43m)\u001b[49m\n",
      "\u001b[36mFile \u001b[39m\u001b[32m~/GenAI/.venv/lib/python3.11/site-packages/keras/src/utils/traceback_utils.py:122\u001b[39m, in \u001b[36mfilter_traceback.<locals>.error_handler\u001b[39m\u001b[34m(*args, **kwargs)\u001b[39m\n\u001b[32m    119\u001b[39m     filtered_tb = _process_traceback_frames(e.__traceback__)\n\u001b[32m    120\u001b[39m     \u001b[38;5;66;03m# To get the full stack trace, call:\u001b[39;00m\n\u001b[32m    121\u001b[39m     \u001b[38;5;66;03m# `keras.config.disable_traceback_filtering()`\u001b[39;00m\n\u001b[32m--> \u001b[39m\u001b[32m122\u001b[39m     \u001b[38;5;28;01mraise\u001b[39;00m e.with_traceback(filtered_tb) \u001b[38;5;28;01mfrom\u001b[39;00m\u001b[38;5;250m \u001b[39m\u001b[38;5;28;01mNone\u001b[39;00m\n\u001b[32m    123\u001b[39m \u001b[38;5;28;01mfinally\u001b[39;00m:\n\u001b[32m    124\u001b[39m     \u001b[38;5;28;01mdel\u001b[39;00m filtered_tb\n",
      "\u001b[36mFile \u001b[39m\u001b[32m~/GenAI/.venv/lib/python3.11/site-packages/keras/src/models/functional.py:276\u001b[39m, in \u001b[36mFunctional._adjust_input_rank\u001b[39m\u001b[34m(self, flat_inputs)\u001b[39m\n\u001b[32m    274\u001b[39m             adjusted.append(ops.expand_dims(x, axis=-\u001b[32m1\u001b[39m))\n\u001b[32m    275\u001b[39m             \u001b[38;5;28;01mcontinue\u001b[39;00m\n\u001b[32m--> \u001b[39m\u001b[32m276\u001b[39m     \u001b[38;5;28;01mraise\u001b[39;00m \u001b[38;5;167;01mValueError\u001b[39;00m(\n\u001b[32m    277\u001b[39m         \u001b[33mf\u001b[39m\u001b[33m\"\u001b[39m\u001b[33mInvalid input shape for input \u001b[39m\u001b[38;5;132;01m{\u001b[39;00mx\u001b[38;5;132;01m}\u001b[39;00m\u001b[33m. Expected shape \u001b[39m\u001b[33m\"\u001b[39m\n\u001b[32m    278\u001b[39m         \u001b[33mf\u001b[39m\u001b[33m\"\u001b[39m\u001b[38;5;132;01m{\u001b[39;00mref_shape\u001b[38;5;132;01m}\u001b[39;00m\u001b[33m, but input has incompatible shape \u001b[39m\u001b[38;5;132;01m{\u001b[39;00mx.shape\u001b[38;5;132;01m}\u001b[39;00m\u001b[33m\"\u001b[39m\n\u001b[32m    279\u001b[39m     )\n\u001b[32m    280\u001b[39m \u001b[38;5;66;03m# Add back metadata.\u001b[39;00m\n\u001b[32m    281\u001b[39m \u001b[38;5;28;01mfor\u001b[39;00m i \u001b[38;5;129;01min\u001b[39;00m \u001b[38;5;28mrange\u001b[39m(\u001b[38;5;28mlen\u001b[39m(flat_inputs)):\n",
      "\u001b[31mValueError\u001b[39m: Exception encountered when calling Sequential.call().\n\n\u001b[1mInvalid input shape for input Tensor(\"sequential_2_1/Cast:0\", shape=(8,), dtype=float32). Expected shape (None, 8), but input has incompatible shape (8,)\u001b[0m\n\nArguments received by Sequential.call():\n  • inputs=('tf.Tensor(shape=(8,), dtype=int32)',)\n  • training=False\n  • mask=('None',)\n  • kwargs=<class 'inspect._empty'>"
     ]
    }
   ],
   "source": [
    "model.predict(embedded_docs[0])"
   ]
  },
  {
   "cell_type": "code",
   "execution_count": null,
   "id": "7d4905fa",
   "metadata": {},
   "outputs": [],
   "source": []
  }
 ],
 "metadata": {
  "kernelspec": {
   "display_name": ".venv",
   "language": "python",
   "name": "python3"
  },
  "language_info": {
   "codemirror_mode": {
    "name": "ipython",
    "version": 3
   },
   "file_extension": ".py",
   "mimetype": "text/x-python",
   "name": "python",
   "nbconvert_exporter": "python",
   "pygments_lexer": "ipython3",
   "version": "3.11.13"
  }
 },
 "nbformat": 4,
 "nbformat_minor": 5
}
