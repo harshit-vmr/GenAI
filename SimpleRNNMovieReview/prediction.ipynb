{
 "cells": [
  {
   "cell_type": "code",
   "execution_count": 3,
   "id": "93b7e4cf",
   "metadata": {},
   "outputs": [],
   "source": [
    "import numpy as np\n",
    "import tensorflow as tf\n",
    "from tensorflow.keras.datasets import imdb\n",
    "from tensorflow.keras.preprocessing import sequence\n",
    "from tensorflow.keras.models import Sequential, load_model\n",
    "from tensorflow.keras.layers import Embedding, SimpleRNN, Dense"
   ]
  },
  {
   "cell_type": "code",
   "execution_count": 9,
   "id": "86a3eb96",
   "metadata": {},
   "outputs": [
    {
     "data": {
      "text/plain": [
       "88584"
      ]
     },
     "execution_count": 9,
     "metadata": {},
     "output_type": "execute_result"
    }
   ],
   "source": [
    "# Mapping indexes to words\n",
    "word_index = imdb.get_word_index()\n",
    "reverse_word_index = {value: key for (key, value) in word_index.items()}\n",
    "len(word_index)"
   ]
  },
  {
   "cell_type": "code",
   "execution_count": 10,
   "id": "b82b524f",
   "metadata": {},
   "outputs": [
    {
     "name": "stderr",
     "output_type": "stream",
     "text": [
      "c:\\Users\\223108492\\Desktop\\GenAI\\.venv\\Lib\\site-packages\\keras\\src\\saving\\saving_lib.py:802: UserWarning: Skipping variable loading for optimizer 'rmsprop', because it has 8 variables whereas the saved optimizer has 14 variables. \n",
      "  saveable.load_own_variables(weights_store.get(inner_path))\n"
     ]
    }
   ],
   "source": [
    "# Load the pre-trained model\n",
    "model = load_model('simple_rnn_imdb.keras')"
   ]
  },
  {
   "cell_type": "code",
   "execution_count": 11,
   "id": "1b699ff4",
   "metadata": {},
   "outputs": [
    {
     "data": {
      "text/html": [
       "<pre style=\"white-space:pre;overflow-x:auto;line-height:normal;font-family:Menlo,'DejaVu Sans Mono',consolas,'Courier New',monospace\"><span style=\"font-weight: bold\">Model: \"sequential_2\"</span>\n",
       "</pre>\n"
      ],
      "text/plain": [
       "\u001b[1mModel: \"sequential_2\"\u001b[0m\n"
      ]
     },
     "metadata": {},
     "output_type": "display_data"
    },
    {
     "data": {
      "text/html": [
       "<pre style=\"white-space:pre;overflow-x:auto;line-height:normal;font-family:Menlo,'DejaVu Sans Mono',consolas,'Courier New',monospace\">┏━━━━━━━━━━━━━━━━━━━━━━━━━━━━━━━━━┳━━━━━━━━━━━━━━━━━━━━━━━━┳━━━━━━━━━━━━━━━┓\n",
       "┃<span style=\"font-weight: bold\"> Layer (type)                    </span>┃<span style=\"font-weight: bold\"> Output Shape           </span>┃<span style=\"font-weight: bold\">       Param # </span>┃\n",
       "┡━━━━━━━━━━━━━━━━━━━━━━━━━━━━━━━━━╇━━━━━━━━━━━━━━━━━━━━━━━━╇━━━━━━━━━━━━━━━┩\n",
       "│ embedding_2 (<span style=\"color: #0087ff; text-decoration-color: #0087ff\">Embedding</span>)         │ (<span style=\"color: #00d7ff; text-decoration-color: #00d7ff\">None</span>, <span style=\"color: #00af00; text-decoration-color: #00af00\">500</span>, <span style=\"color: #00af00; text-decoration-color: #00af00\">128</span>)       │     <span style=\"color: #00af00; text-decoration-color: #00af00\">1,280,000</span> │\n",
       "├─────────────────────────────────┼────────────────────────┼───────────────┤\n",
       "│ simple_rnn_2 (<span style=\"color: #0087ff; text-decoration-color: #0087ff\">SimpleRNN</span>)        │ (<span style=\"color: #00d7ff; text-decoration-color: #00d7ff\">None</span>, <span style=\"color: #00af00; text-decoration-color: #00af00\">128</span>)            │        <span style=\"color: #00af00; text-decoration-color: #00af00\">32,896</span> │\n",
       "├─────────────────────────────────┼────────────────────────┼───────────────┤\n",
       "│ dense_2 (<span style=\"color: #0087ff; text-decoration-color: #0087ff\">Dense</span>)                 │ (<span style=\"color: #00d7ff; text-decoration-color: #00d7ff\">None</span>, <span style=\"color: #00af00; text-decoration-color: #00af00\">1</span>)              │           <span style=\"color: #00af00; text-decoration-color: #00af00\">129</span> │\n",
       "└─────────────────────────────────┴────────────────────────┴───────────────┘\n",
       "</pre>\n"
      ],
      "text/plain": [
       "┏━━━━━━━━━━━━━━━━━━━━━━━━━━━━━━━━━┳━━━━━━━━━━━━━━━━━━━━━━━━┳━━━━━━━━━━━━━━━┓\n",
       "┃\u001b[1m \u001b[0m\u001b[1mLayer (type)                   \u001b[0m\u001b[1m \u001b[0m┃\u001b[1m \u001b[0m\u001b[1mOutput Shape          \u001b[0m\u001b[1m \u001b[0m┃\u001b[1m \u001b[0m\u001b[1m      Param #\u001b[0m\u001b[1m \u001b[0m┃\n",
       "┡━━━━━━━━━━━━━━━━━━━━━━━━━━━━━━━━━╇━━━━━━━━━━━━━━━━━━━━━━━━╇━━━━━━━━━━━━━━━┩\n",
       "│ embedding_2 (\u001b[38;5;33mEmbedding\u001b[0m)         │ (\u001b[38;5;45mNone\u001b[0m, \u001b[38;5;34m500\u001b[0m, \u001b[38;5;34m128\u001b[0m)       │     \u001b[38;5;34m1,280,000\u001b[0m │\n",
       "├─────────────────────────────────┼────────────────────────┼───────────────┤\n",
       "│ simple_rnn_2 (\u001b[38;5;33mSimpleRNN\u001b[0m)        │ (\u001b[38;5;45mNone\u001b[0m, \u001b[38;5;34m128\u001b[0m)            │        \u001b[38;5;34m32,896\u001b[0m │\n",
       "├─────────────────────────────────┼────────────────────────┼───────────────┤\n",
       "│ dense_2 (\u001b[38;5;33mDense\u001b[0m)                 │ (\u001b[38;5;45mNone\u001b[0m, \u001b[38;5;34m1\u001b[0m)              │           \u001b[38;5;34m129\u001b[0m │\n",
       "└─────────────────────────────────┴────────────────────────┴───────────────┘\n"
      ]
     },
     "metadata": {},
     "output_type": "display_data"
    },
    {
     "data": {
      "text/html": [
       "<pre style=\"white-space:pre;overflow-x:auto;line-height:normal;font-family:Menlo,'DejaVu Sans Mono',consolas,'Courier New',monospace\"><span style=\"font-weight: bold\"> Total params: </span><span style=\"color: #00af00; text-decoration-color: #00af00\">2,626,052</span> (10.02 MB)\n",
       "</pre>\n"
      ],
      "text/plain": [
       "\u001b[1m Total params: \u001b[0m\u001b[38;5;34m2,626,052\u001b[0m (10.02 MB)\n"
      ]
     },
     "metadata": {},
     "output_type": "display_data"
    },
    {
     "data": {
      "text/html": [
       "<pre style=\"white-space:pre;overflow-x:auto;line-height:normal;font-family:Menlo,'DejaVu Sans Mono',consolas,'Courier New',monospace\"><span style=\"font-weight: bold\"> Trainable params: </span><span style=\"color: #00af00; text-decoration-color: #00af00\">1,313,025</span> (5.01 MB)\n",
       "</pre>\n"
      ],
      "text/plain": [
       "\u001b[1m Trainable params: \u001b[0m\u001b[38;5;34m1,313,025\u001b[0m (5.01 MB)\n"
      ]
     },
     "metadata": {},
     "output_type": "display_data"
    },
    {
     "data": {
      "text/html": [
       "<pre style=\"white-space:pre;overflow-x:auto;line-height:normal;font-family:Menlo,'DejaVu Sans Mono',consolas,'Courier New',monospace\"><span style=\"font-weight: bold\"> Non-trainable params: </span><span style=\"color: #00af00; text-decoration-color: #00af00\">0</span> (0.00 B)\n",
       "</pre>\n"
      ],
      "text/plain": [
       "\u001b[1m Non-trainable params: \u001b[0m\u001b[38;5;34m0\u001b[0m (0.00 B)\n"
      ]
     },
     "metadata": {},
     "output_type": "display_data"
    },
    {
     "data": {
      "text/html": [
       "<pre style=\"white-space:pre;overflow-x:auto;line-height:normal;font-family:Menlo,'DejaVu Sans Mono',consolas,'Courier New',monospace\"><span style=\"font-weight: bold\"> Optimizer params: </span><span style=\"color: #00af00; text-decoration-color: #00af00\">1,313,027</span> (5.01 MB)\n",
       "</pre>\n"
      ],
      "text/plain": [
       "\u001b[1m Optimizer params: \u001b[0m\u001b[38;5;34m1,313,027\u001b[0m (5.01 MB)\n"
      ]
     },
     "metadata": {},
     "output_type": "display_data"
    }
   ],
   "source": [
    "model.summary()"
   ]
  },
  {
   "cell_type": "code",
   "execution_count": 12,
   "id": "985fc248",
   "metadata": {},
   "outputs": [
    {
     "data": {
      "text/plain": [
       "[array([[ 6.0714275e-02, -6.9068465e-03, -2.6343808e-01, ...,\n",
       "          1.0834863e-01,  2.0677643e-03,  1.4679793e-01],\n",
       "        [ 1.0564539e-01,  1.7585032e-02, -9.0124495e-02, ...,\n",
       "          5.2096326e-02, -5.5609867e-02, -2.8060222e-02],\n",
       "        [ 7.6890118e-02,  1.5856747e-02, -2.4904605e-02, ...,\n",
       "          3.0855877e-02, -6.3863158e-02,  3.1723261e-02],\n",
       "        ...,\n",
       "        [-7.8744203e-02,  9.7190455e-02, -1.0415698e-01, ...,\n",
       "         -7.2980227e-05, -9.9479277e-03, -1.4968362e-02],\n",
       "        [-1.2187518e-01, -7.8491054e-02,  6.3990846e-02, ...,\n",
       "          8.5193761e-02, -4.9261712e-02,  7.5866640e-02],\n",
       "        [ 2.0210741e-02, -3.8646277e-02,  1.8719779e-01, ...,\n",
       "         -1.3943128e-01, -5.2665006e-02, -1.4973114e-01]], dtype=float32),\n",
       " array([[ 0.05847876, -0.06964788,  0.17191502, ..., -0.08609907,\n",
       "          0.0156478 , -0.09728814],\n",
       "        [-0.08133622,  0.10106342, -0.09195574, ..., -0.18954341,\n",
       "          0.03632951,  0.11549702],\n",
       "        [-0.17260924, -0.04930226, -0.06972896, ...,  0.06315727,\n",
       "          0.02610165,  0.12887469],\n",
       "        ...,\n",
       "        [-0.20293327, -0.05984037,  0.06855584, ..., -0.09933684,\n",
       "          0.05004955,  0.07821933],\n",
       "        [ 0.05877808, -0.00941176, -0.12441755, ...,  0.12900966,\n",
       "          0.12355069, -0.04388409],\n",
       "        [ 0.16065432,  0.12238576, -0.09715431, ...,  0.15744199,\n",
       "         -0.07619205,  0.03129683]], dtype=float32),\n",
       " array([[-0.12816462, -0.11611918,  0.15525174, ..., -0.12870425,\n",
       "         -0.00151712,  0.0573178 ],\n",
       "        [-0.02930381, -0.25409827, -0.00353278, ..., -0.03719798,\n",
       "         -0.13667361, -0.04163372],\n",
       "        [ 0.03986668, -0.0611379 , -0.02096962, ..., -0.07401574,\n",
       "          0.08842996,  0.05007309],\n",
       "        ...,\n",
       "        [-0.2030063 , -0.04800532,  0.2699704 , ...,  0.05944277,\n",
       "         -0.05951424,  0.15553628],\n",
       "        [ 0.04184342, -0.06595461, -0.14518005, ..., -0.08795502,\n",
       "         -0.01589307, -0.03705414],\n",
       "        [ 0.07112224,  0.03660523,  0.0342547 , ..., -0.19254348,\n",
       "         -0.17758742, -0.00817317]], dtype=float32),\n",
       " array([ 0.0560952 , -0.04214876,  0.00573562, -0.03964132,  0.03073905,\n",
       "         0.02201545, -0.00638153, -0.02141678,  0.01820271, -0.04604323,\n",
       "         0.01382743, -0.02412704, -0.02459145,  0.10636529, -0.01445877,\n",
       "        -0.06348871, -0.02124135, -0.03199339, -0.01632337, -0.04288669,\n",
       "         0.02894218, -0.00890037, -0.01734624, -0.01988254, -0.02738953,\n",
       "        -0.01437467, -0.03984016, -0.03212288, -0.07170379, -0.02327107,\n",
       "        -0.01263478, -0.01523152, -0.05703889, -0.01440613, -0.03808608,\n",
       "        -0.03544061, -0.01709654, -0.02733495, -0.0205424 ,  0.03465512,\n",
       "         0.01740967, -0.02155838, -0.07795005,  0.06035009, -0.0066995 ,\n",
       "         0.01153523,  0.00076979, -0.02156901, -0.02075554,  0.04894483,\n",
       "        -0.03986341, -0.00240667,  0.01742178, -0.04455758, -0.01272127,\n",
       "        -0.03568736, -0.00683261, -0.03332201,  0.05755041, -0.01655368,\n",
       "         0.11406662, -0.01259855,  0.04631717,  0.03527207, -0.02883773,\n",
       "        -0.05868006, -0.0210756 , -0.02481597, -0.01896204,  0.04571436,\n",
       "        -0.00214536, -0.02144765, -0.05898785,  0.01511164, -0.005811  ,\n",
       "        -0.0470635 ,  0.00371823, -0.02866555, -0.05849475, -0.05696893,\n",
       "        -0.04168933,  0.02459507, -0.03443574, -0.01212081,  0.00129164,\n",
       "        -0.04457479, -0.01078329, -0.01774813, -0.02943748, -0.0428759 ,\n",
       "        -0.04447648, -0.04988489, -0.00913322, -0.02276845, -0.01170335,\n",
       "        -0.05937995, -0.01279208, -0.03854221, -0.01967759, -0.04336157,\n",
       "        -0.01564993, -0.0384854 , -0.02091427, -0.04216569, -0.01354853,\n",
       "        -0.02548741, -0.00784572, -0.06683304, -0.03891394, -0.04243193,\n",
       "        -0.02333405, -0.03298675, -0.0550181 , -0.03399241, -0.00479259,\n",
       "        -0.03940232, -0.0025045 , -0.01021633,  0.00749702, -0.04793479,\n",
       "        -0.0114815 ,  0.04429316, -0.04160296, -0.02081804, -0.03370489,\n",
       "        -0.01473145, -0.03646701,  0.03501762], dtype=float32),\n",
       " array([[-0.04539365],\n",
       "        [-0.3055323 ],\n",
       "        [ 0.2960818 ],\n",
       "        [-0.18633252],\n",
       "        [ 0.23854557],\n",
       "        [-0.2024922 ],\n",
       "        [-0.05595666],\n",
       "        [-0.15920538],\n",
       "        [ 0.31320575],\n",
       "        [ 0.11460722],\n",
       "        [-0.08693386],\n",
       "        [ 0.6334071 ],\n",
       "        [ 0.31108254],\n",
       "        [-0.45290118],\n",
       "        [ 0.2788281 ],\n",
       "        [-0.4918366 ],\n",
       "        [-1.1279395 ],\n",
       "        [-0.15376137],\n",
       "        [-0.09218161],\n",
       "        [ 0.07770814],\n",
       "        [-0.0922512 ],\n",
       "        [-0.1531881 ],\n",
       "        [ 0.02762672],\n",
       "        [ 0.02455652],\n",
       "        [ 0.0513814 ],\n",
       "        [ 0.36594573],\n",
       "        [ 0.18618287],\n",
       "        [-0.16412655],\n",
       "        [ 0.00216338],\n",
       "        [ 0.13698444],\n",
       "        [ 0.43809682],\n",
       "        [-0.07446855],\n",
       "        [-0.25616983],\n",
       "        [ 0.01616894],\n",
       "        [-0.12496572],\n",
       "        [ 0.13592498],\n",
       "        [ 0.25466433],\n",
       "        [ 0.08008146],\n",
       "        [ 0.2748231 ],\n",
       "        [-0.13513106],\n",
       "        [ 0.10290764],\n",
       "        [ 0.17739998],\n",
       "        [-0.19566321],\n",
       "        [-0.17865656],\n",
       "        [-0.28903317],\n",
       "        [ 0.12722968],\n",
       "        [ 0.30024838],\n",
       "        [ 0.21439159],\n",
       "        [-0.10715502],\n",
       "        [-0.2228495 ],\n",
       "        [-0.2064572 ],\n",
       "        [-0.22825709],\n",
       "        [-0.46310368],\n",
       "        [-0.1729057 ],\n",
       "        [-0.16194625],\n",
       "        [-0.15650013],\n",
       "        [ 0.873079  ],\n",
       "        [-0.27408   ],\n",
       "        [ 1.046121  ],\n",
       "        [ 0.19044414],\n",
       "        [ 0.5423976 ],\n",
       "        [-0.13037568],\n",
       "        [-0.73072827],\n",
       "        [ 0.24899638],\n",
       "        [-0.1976472 ],\n",
       "        [-0.11504018],\n",
       "        [ 0.21776064],\n",
       "        [-0.10489117],\n",
       "        [-0.15442948],\n",
       "        [ 0.07269805],\n",
       "        [-0.1800178 ],\n",
       "        [ 0.0363081 ],\n",
       "        [ 0.06158576],\n",
       "        [-0.18858236],\n",
       "        [ 0.26254198],\n",
       "        [ 0.07590102],\n",
       "        [-0.39511767],\n",
       "        [ 0.02297826],\n",
       "        [ 0.0349333 ],\n",
       "        [-0.10060056],\n",
       "        [-0.08335131],\n",
       "        [ 0.78623897],\n",
       "        [-0.09488796],\n",
       "        [ 0.03988175],\n",
       "        [-0.29761654],\n",
       "        [-0.10102056],\n",
       "        [ 0.21707956],\n",
       "        [ 0.20707144],\n",
       "        [ 0.25129187],\n",
       "        [-0.05258464],\n",
       "        [ 0.00478694],\n",
       "        [-0.06966582],\n",
       "        [-1.3744571 ],\n",
       "        [ 0.16949804],\n",
       "        [ 0.08575701],\n",
       "        [ 0.01895091],\n",
       "        [ 0.28120494],\n",
       "        [-0.54238343],\n",
       "        [ 0.15171255],\n",
       "        [-0.00414948],\n",
       "        [ 0.25910538],\n",
       "        [-0.17655346],\n",
       "        [-0.21183601],\n",
       "        [ 0.13710284],\n",
       "        [ 0.22505097],\n",
       "        [-0.03785411],\n",
       "        [ 0.00918422],\n",
       "        [ 0.78029597],\n",
       "        [-0.02887819],\n",
       "        [ 0.14049372],\n",
       "        [ 0.10386949],\n",
       "        [ 0.01692758],\n",
       "        [ 0.13145536],\n",
       "        [-0.06729006],\n",
       "        [-1.0603228 ],\n",
       "        [-0.05492975],\n",
       "        [-0.0755228 ],\n",
       "        [ 0.19150206],\n",
       "        [-0.0357695 ],\n",
       "        [ 0.04279055],\n",
       "        [ 0.04976499],\n",
       "        [-0.11645947],\n",
       "        [-0.14252728],\n",
       "        [ 0.18379532],\n",
       "        [ 0.10796392],\n",
       "        [ 0.0544889 ],\n",
       "        [-0.09532475],\n",
       "        [ 0.34019494]], dtype=float32),\n",
       " array([0.19301157], dtype=float32)]"
      ]
     },
     "execution_count": 12,
     "metadata": {},
     "output_type": "execute_result"
    }
   ],
   "source": [
    "model.get_weights()"
   ]
  },
  {
   "cell_type": "code",
   "execution_count": 13,
   "id": "e0d19b84",
   "metadata": {},
   "outputs": [],
   "source": [
    "def decode_review(review):\n",
    "    \"\"\"Decode a review from integers to words.\"\"\"\n",
    "    decoded_review = ' '.join([reverse_word_index.get(i - 3, '?') for i in review])\n",
    "    return decoded_review"
   ]
  },
  {
   "cell_type": "code",
   "execution_count": 14,
   "id": "7c6b6c46",
   "metadata": {},
   "outputs": [],
   "source": [
    "def preprocess_review(review, maxlen=500):\n",
    "    \"\"\"Preprocess a review by padding it to the maximum length.\"\"\"\n",
    "    words = review.lower().split()\n",
    "    review = [word_index.get(word, 2) for word in words]\n",
    "    return sequence.pad_sequences([review], maxlen=maxlen)"
   ]
  },
  {
   "cell_type": "code",
   "execution_count": 15,
   "id": "51a86993",
   "metadata": {},
   "outputs": [],
   "source": [
    "### Prediction Function\n",
    "def predict_review(review):\n",
    "    \"\"\"Predict the sentiment of a review.\"\"\"\n",
    "    processed_review = preprocess_review(review)\n",
    "    prediction = model.predict(processed_review)\n",
    "    sentiment = 'positive' if prediction[0][0] > 0.5 else 'negative'\n",
    "    return sentiment, decode_review(processed_review[0])"
   ]
  },
  {
   "cell_type": "code",
   "execution_count": 16,
   "id": "dd743960",
   "metadata": {},
   "outputs": [
    {
     "name": "stdout",
     "output_type": "stream",
     "text": [
      "\u001b[1m1/1\u001b[0m \u001b[32m━━━━━━━━━━━━━━━━━━━━\u001b[0m\u001b[37m\u001b[0m \u001b[1m0s\u001b[0m 393ms/step\n",
      "Sentiment: positive\n"
     ]
    }
   ],
   "source": [
    "### predicting a sample review\n",
    "sample_review = \"This movie was fantastic! I loved the plot and the acting was superb.\"\n",
    "sentiment, decoded_review = predict_review(sample_review)\n",
    "print(f\"Sentiment: {sentiment}\")"
   ]
  },
  {
   "cell_type": "code",
   "execution_count": null,
   "id": "0acffe64",
   "metadata": {},
   "outputs": [],
   "source": []
  }
 ],
 "metadata": {
  "kernelspec": {
   "display_name": ".venv",
   "language": "python",
   "name": "python3"
  },
  "language_info": {
   "codemirror_mode": {
    "name": "ipython",
    "version": 3
   },
   "file_extension": ".py",
   "mimetype": "text/x-python",
   "name": "python",
   "nbconvert_exporter": "python",
   "pygments_lexer": "ipython3",
   "version": "3.11.9"
  }
 },
 "nbformat": 4,
 "nbformat_minor": 5
}
